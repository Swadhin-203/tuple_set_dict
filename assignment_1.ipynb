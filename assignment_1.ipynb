{
 "cells": [
  {
   "cell_type": "markdown",
   "id": "5c535b33",
   "metadata": {},
   "source": [
    "Q1. What are the characteristics of the tuples? Is tuple immutable?\n",
    "Ans:The main characteristics of tuple are ordered,unchangeble and it allows duplicate values.Yes Tuple is Immutable."
   ]
  },
  {
   "cell_type": "markdown",
   "id": "a8e75201",
   "metadata": {},
   "source": [
    "Q2. What are the two tuple methods in python? Give an example of each method. Give a reason why\n",
    "tuples have only two in-built methods as compared to Lists.\n",
    "Ans:The two tuples method are index() and Count().Exp of tuple are"
   ]
  },
  {
   "cell_type": "code",
   "execution_count": 4,
   "id": "5e9a375c",
   "metadata": {},
   "outputs": [],
   "source": [
    "t1=(2,3,4,5,6,\"swadhin\")"
   ]
  },
  {
   "cell_type": "code",
   "execution_count": 6,
   "id": "5172bdcb",
   "metadata": {},
   "outputs": [
    {
     "data": {
      "text/plain": [
       "1"
      ]
     },
     "execution_count": 6,
     "metadata": {},
     "output_type": "execute_result"
    }
   ],
   "source": [
    "t1.count(3)#Here there is only one 3 in the tuples so the outout is 1"
   ]
  },
  {
   "cell_type": "code",
   "execution_count": 7,
   "id": "31f133ed",
   "metadata": {},
   "outputs": [
    {
     "data": {
      "text/plain": [
       "2"
      ]
     },
     "execution_count": 7,
     "metadata": {},
     "output_type": "execute_result"
    }
   ],
   "source": [
    "t1.index(4)#here the index of 4 is 2 so the out put is 2"
   ]
  },
  {
   "cell_type": "code",
   "execution_count": 11,
   "id": "19523a48",
   "metadata": {},
   "outputs": [
    {
     "data": {
      "text/plain": [
       "{1, 2, 3, 4}"
      ]
     },
     "execution_count": 11,
     "metadata": {},
     "output_type": "execute_result"
    }
   ],
   "source": [
    "# <!-- Which collection datatypes in python do not allow duplicate items? Write a code using a set to remove\n",
    "# duplicates from the given list.\n",
    "# Ans:Set  data type do not allows duplicate items. -->\n",
    "List = [1, 1, 1, 2, 1, 3, 1, 4, 2, 1, 2, 2, 2, 3, 2, 4, 3, 1, 3, 2, 3, 3, 3, 4, 4, 1, 4, 2, 4, 3, 4, 4]\n",
    "set(List)\n"
   ]
  },
  {
   "cell_type": "markdown",
   "id": "08728b7b",
   "metadata": {},
   "source": [
    "Q4. Explain the difference between the union() and update() methods for a set. Give an example of\n",
    "each method.\n",
    "Ans:Uninon method adds missing elements to the set and update method creates new set"
   ]
  },
  {
   "cell_type": "markdown",
   "id": "cb27877e",
   "metadata": {},
   "source": [
    "Q5. What is a dictionary? Give an example. Also, state whether a dictionary is ordered or unordered.\n",
    "\n",
    "Ans:Dictionary is a collection of elements having key and value.Dictionary is ordered."
   ]
  },
  {
   "cell_type": "code",
   "execution_count": 16,
   "id": "db88de75",
   "metadata": {},
   "outputs": [],
   "source": [
    "#exp of dictionary\n",
    "dic={\"name\":\"Swadhin\",\"age\":19,\"job\":\"student\"}\n"
   ]
  },
  {
   "cell_type": "markdown",
   "id": "6fbcef8b",
   "metadata": {},
   "source": [
    "Q6. Can we create a nested dictionary? If so, please give an example by creating a simple one-level\n",
    "nested dictionary.\n",
    "Ans:Yes we can create a nested dictionary."
   ]
  },
  {
   "cell_type": "code",
   "execution_count": 19,
   "id": "a6c9424d",
   "metadata": {},
   "outputs": [],
   "source": [
    "#exp\n",
    "dic1={\"name\":\"jojo\",\"age\":20,\"job\":\"student\"}\n",
    "dic3={\"jojo\":{\"name\":\"jojo\",\"age\":20,\"job\":\"student\"},\"swaddhin\":{\"name\":\"Swadhin\",\"age\":19,\"job\":\"student\"}}"
   ]
  },
  {
   "cell_type": "markdown",
   "id": "9bc13092",
   "metadata": {},
   "source": [
    "Q7. Using setdefault() method, create key named topics in the given dictionary and also add the value of\n",
    "the key as this list ['Python', 'Machine Learning’, 'Deep Learning']\n",
    "\n",
    "No idea about that"
   ]
  },
  {
   "cell_type": "markdown",
   "id": "70866179",
   "metadata": {},
   "source": [
    "Q8. What are the three view objects in dictionaries? Use the three in-built methods in python to display\n",
    "these three view objects for the given dictionary.\n",
    "dict1 = {'Sport': 'Cricket' , 'Teams': ['India', 'Australia', 'England', 'South Africa', 'Sri Lanka', 'New Zealand']}\n",
    "Ans:Keys, items and values are three view objects in dictionaries."
   ]
  },
  {
   "cell_type": "code",
   "execution_count": 25,
   "id": "8c356197",
   "metadata": {},
   "outputs": [
    {
     "data": {
      "text/plain": [
       "dict_values(['Cricket', ['India', 'Australia', 'England', 'South Africa', 'Sri Lanka', 'New Zealand']])"
      ]
     },
     "execution_count": 25,
     "metadata": {},
     "output_type": "execute_result"
    }
   ],
   "source": [
    "dict1 = {'Sport': 'Cricket' , 'Teams': ['India', 'Australia', 'England', 'South Africa', 'Sri Lanka', 'New Zealand']}\n",
    "dict1.keys()\n",
    "dict1.items()\n",
    "dict1.values()"
   ]
  },
  {
   "cell_type": "code",
   "execution_count": null,
   "id": "9b4f8483",
   "metadata": {},
   "outputs": [],
   "source": []
  }
 ],
 "metadata": {
  "kernelspec": {
   "display_name": "Python 3 (ipykernel)",
   "language": "python",
   "name": "python3"
  },
  "language_info": {
   "codemirror_mode": {
    "name": "ipython",
    "version": 3
   },
   "file_extension": ".py",
   "mimetype": "text/x-python",
   "name": "python",
   "nbconvert_exporter": "python",
   "pygments_lexer": "ipython3",
   "version": "3.10.5"
  }
 },
 "nbformat": 4,
 "nbformat_minor": 5
}
